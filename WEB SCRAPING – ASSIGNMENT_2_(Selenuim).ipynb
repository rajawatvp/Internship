{
 "cells": [
  {
   "cell_type": "code",
   "execution_count": null,
   "id": "248e46b7",
   "metadata": {},
   "outputs": [],
   "source": [
    "import selenium\n",
    "import pandas as pd\n",
    "from selenium import webdriver\n",
    "import warnings\n",
    "warnings.filterwarnings('ignore')\n",
    "from selenium.webdriver.common.by import By\n",
    "import time\n",
    "from selenium.webdriver.support.ui import WebDriverWait\n",
    "from time import sleep\n",
    "from selenium.common.exceptions import ElementNotInteractableException\n",
    "from selenium.webdriver.chrome.options import Options\n"
   ]
  },
  {
   "cell_type": "code",
   "execution_count": null,
   "id": "a8f60820",
   "metadata": {},
   "outputs": [],
   "source": [
    "# get the access from chrome driver\n",
    "\n",
    "driver = webdriver.Chrome()"
   ]
  },
  {
   "cell_type": "code",
   "execution_count": null,
   "id": "cd295bc6",
   "metadata": {},
   "outputs": [],
   "source": [
    "# fetching the website\n",
    "\n",
    "driver.get(\"https://www.naukri.com/\")"
   ]
  },
  {
   "cell_type": "code",
   "execution_count": null,
   "id": "a01fac4d",
   "metadata": {},
   "outputs": [],
   "source": [
    "# get the designation data \n",
    "\n",
    "designation = driver.find_element(By.CLASS_NAME,\"suggestor-input\")\n",
    "designation.send_keys('Data Scientist')"
   ]
  },
  {
   "cell_type": "code",
   "execution_count": null,
   "id": "b6a57952",
   "metadata": {},
   "outputs": [],
   "source": [
    "# get the job location \n",
    "\n",
    "location = driver.find_element(By.XPATH,\"/html/body/div[1]/div[7]/div/div/div[5]/div/div/div/div[1]/div/input\")\n",
    "location.send_keys('Delhi/NCR')"
   ]
  },
  {
   "cell_type": "code",
   "execution_count": null,
   "id": "6cebd07a",
   "metadata": {},
   "outputs": [],
   "source": [
    "# get the first page\n",
    "\n",
    "search = driver.find_element(By.CLASS_NAME,\"qsbSubmit\")\n",
    "search.click()"
   ]
  },
  {
   "cell_type": "code",
   "execution_count": null,
   "id": "4868583b",
   "metadata": {},
   "outputs": [],
   "source": [
    "# get the job title\n",
    "\n",
    "job_title = driver.find_element(By.CLASS_NAME,\"title \")\n",
    "job_title.send_keys(\"job_titles\")"
   ]
  },
  {
   "cell_type": "code",
   "execution_count": null,
   "id": "4ebee65e",
   "metadata": {},
   "outputs": [],
   "source": [
    "# create the list \n",
    "\n",
    "job_title = []\n",
    "job_location = []\n",
    "company_name = []\n",
    "experience_required =[]\n",
    "\n"
   ]
  },
  {
   "cell_type": "code",
   "execution_count": null,
   "id": "3e0ebdd7",
   "metadata": {},
   "outputs": [],
   "source": [
    "# save all the details in the list\n",
    "\n",
    "title_tags = driver.find_elements(By.XPATH,'//div[@class=\"cust-job-tuple layout-wrapper lay-2 sjw__tuple \"]/div/a')\n",
    "for i in title_tags:\n",
    "    title = i.text\n",
    "    job_title.append(title)    \n",
    "    \n",
    "job_location_tags = driver.find_elements(By.XPATH,'//span[@class=\"locWdth\"]')\n",
    "for i in job_location_tags:\n",
    "    location = i.text\n",
    "    job_location.append(location)\n",
    "    \n",
    "    \n",
    "company_tags = driver.find_elements(By.XPATH,'//div[@class=\" row2\"]/span/a[1]')\n",
    "for i in company_tags:\n",
    "    company = i.text\n",
    "    company_name.append(company)\n",
    "    \n",
    "\n",
    "    \n",
    "experience_tags = driver.find_elements(By.XPATH,'//span[@class=\"expwdth\"]')\n",
    "for i in experience_tags:\n",
    "    exp = i.text\n",
    "    experience_required.append(exp)\n",
    "    \n",
    "    "
   ]
  },
  {
   "cell_type": "code",
   "execution_count": null,
   "id": "c2b00fd8",
   "metadata": {},
   "outputs": [],
   "source": [
    "# create the data frame and fetch first 10 data.\n",
    "\n",
    "df = pd.DataFrame({'Title':job_title,'Location':job_location,'Company_Name':company_name,'Experience':experience_required})\n",
    "df.head(10)"
   ]
  },
  {
   "cell_type": "markdown",
   "id": "936137df",
   "metadata": {},
   "source": [
    "### Q2: Write a python program to scrape data for “Data Scientist” Job position in “Bangalore” location. You have to scrape the job-title, job-location, company_name, experience_required. You have to scrape first 10 jobs data."
   ]
  },
  {
   "cell_type": "code",
   "execution_count": null,
   "id": "099c48f6",
   "metadata": {},
   "outputs": [],
   "source": [
    "# get the access from chrome driver\n",
    "\n",
    "driver = webdriver.Chrome()"
   ]
  },
  {
   "cell_type": "code",
   "execution_count": null,
   "id": "e9a94b40",
   "metadata": {},
   "outputs": [],
   "source": [
    "# fetching the website\n",
    "\n",
    "driver.get(\"https://www.shine.com/\")"
   ]
  },
  {
   "cell_type": "code",
   "execution_count": null,
   "id": "aea669c9",
   "metadata": {},
   "outputs": [],
   "source": [
    "# get the designation data \n",
    "\n",
    "job_position = driver.find_element(By.CLASS_NAME,\"input\")\n",
    "job_position.send_keys('Data Scientist')"
   ]
  },
  {
   "cell_type": "code",
   "execution_count": null,
   "id": "9189c54f",
   "metadata": {},
   "outputs": [],
   "source": [
    "# click on search Button \n",
    "\n",
    "search = driver.find_element(By.CLASS_NAME,\"iconH-zoom-white\")\n",
    "search.click()\n"
   ]
  },
  {
   "cell_type": "code",
   "execution_count": null,
   "id": "ce97f807",
   "metadata": {},
   "outputs": [],
   "source": [
    "# Get the job position title\n",
    "\n",
    "job_title = driver.find_element(By.XPATH,\"/html/body/div/div[4]/div/div[2]/div[2]/div/form/div/div[1]/ul/li[1]/div/input\")\n",
    "job_title.send_keys('Data Scientist')"
   ]
  },
  {
   "cell_type": "code",
   "execution_count": null,
   "id": "8d6f088c",
   "metadata": {},
   "outputs": [],
   "source": [
    "# get the job location \n",
    "\n",
    "job_location = driver.find_element(By.XPATH,\"/html/body/div/div[4]/div/div[2]/div[2]/div/form/div/div[1]/ul/li[2]/div/input\")\n",
    "job_location.send_keys('Bangalore')"
   ]
  },
  {
   "cell_type": "code",
   "execution_count": null,
   "id": "8240b897",
   "metadata": {},
   "outputs": [],
   "source": [
    "# get the Experience required\n",
    "\n",
    "experience_required = driver.find_element(By.XPATH,\"/html/body/div/div[4]/div/div[2]/div[2]/div/form/div/div[1]/ul/li[3]/div/input[1]\")\n",
    "experience_required .send_keys('Experience')"
   ]
  },
  {
   "cell_type": "code",
   "execution_count": null,
   "id": "7141526d",
   "metadata": {},
   "outputs": [],
   "source": [
    "# now click on the search button\n",
    "\n",
    "search_jobs = driver.find_element(By.XPATH,\"/html/body/div/div[4]/div/div[2]/div[2]/div/form/div/div[2]/div/button\")\n",
    "search_jobs.click()"
   ]
  },
  {
   "cell_type": "code",
   "execution_count": null,
   "id": "bf8cc454",
   "metadata": {},
   "outputs": [],
   "source": [
    "# create the list \n",
    "\n",
    "job_title_1 = []\n",
    "job_location_1 = []\n",
    "company_name_1 = []\n",
    "experience_required_1 =[]\n",
    "\n"
   ]
  },
  {
   "cell_type": "code",
   "execution_count": null,
   "id": "5c0fa1e8",
   "metadata": {},
   "outputs": [],
   "source": [
    "# save all the details in the list\n",
    "\n",
    "title_tags = driver.find_elements(By.XPATH,'//strong[@class=\"jobCard_pReplaceH2__xWmHg\"]/h2/a')\n",
    "for i in title_tags:\n",
    "    title = i.text\n",
    "    job_title_1.append(title)    \n",
    "    \n",
    "job_location_tags = driver.find_elements(By.XPATH,'//div[@class=\"jobCard_jobCard_lists_item__YxRkV jobCard_locationIcon__zrWt2\"]')\n",
    "for i in job_location_tags:\n",
    "    location = i.text\n",
    "    job_location_1.append(location)\n",
    "    \n",
    "    \n",
    "company_tags = driver.find_elements(By.XPATH,'//div[@class=\"jobCard_jobCard_cName__mYnow\"]')\n",
    "for i in company_tags:\n",
    "    company = i.text\n",
    "    company_name_1.append(company)\n",
    "    \n",
    "\n",
    "    \n",
    "experience_tags = driver.find_elements(By.XPATH,'//div[@class=\" jobCard_jobCard_lists_item__YxRkV jobCard_jobIcon__3FB1t\"]')\n",
    "for i in experience_tags:\n",
    "    exp = i.text\n",
    "    experience_required_1.append(exp)"
   ]
  },
  {
   "cell_type": "code",
   "execution_count": null,
   "id": "08918ccc",
   "metadata": {},
   "outputs": [],
   "source": [
    "# create the dataframe and fetch the first 10 data from the Web search page\n",
    "\n",
    "df = pd.DataFrame({'Title':job_title_1,'Location':job_location_1,'Company_Name':company_name_1,'Experience':experience_required_1})\n",
    "df.head(10)"
   ]
  },
  {
   "cell_type": "markdown",
   "id": "2d95c0a4",
   "metadata": {},
   "source": [
    "### Q3: Scrape 100 reviews data from flipkart.com for iphone11 phone. You have to go the link: \n",
    "`https://www.flipkart.com/apple-iphone-11-black-64-gb/product-reviews/itm4e5041ba101fd?pid=MOBFWQ6BXGJCEYNY&lid=LSTMOBFWQ6BXGJCEYNYZXSHRJ&marketplace=FLIPKART`"
   ]
  },
  {
   "cell_type": "code",
   "execution_count": null,
   "id": "74429b7a",
   "metadata": {},
   "outputs": [],
   "source": [
    "# get the access from chrome driver\n",
    "\n",
    "driver = webdriver.Chrome()"
   ]
  },
  {
   "cell_type": "code",
   "execution_count": null,
   "id": "77e7d642",
   "metadata": {},
   "outputs": [],
   "source": [
    "# fetching the website\n",
    "\n",
    "driver.get(\"https://www.flipkart.com/apple-iphone-11-black-64-gb/product-reviews/itm4e5041ba101fd?pid=MOBFWQ6BXGJCEYNY&lid=LSTMOBFWQ6BXGJCEYNYZXSHRJ&marketplace=FLIPKART\")"
   ]
  },
  {
   "cell_type": "code",
   "execution_count": null,
   "id": "0f0d0ae4",
   "metadata": {},
   "outputs": [],
   "source": [
    "# Scrape the data for Full Ratings\n",
    "\n",
    "ratings = []\n",
    "\n",
    "for i in range(10):\n",
    "    print('scrapping page', i+1)\n",
    "    rating = driver.find_elements(By.XPATH,'//div[@class=\"XQDdHH Ga3i8K\"]')\n",
    "    for r in rating:\n",
    "        ratings.append(r.text)\n",
    "        \n",
    "    next_button = driver.find_element(By.XPATH,\"//a[@class='_9QVEpD']\")\n",
    "    next_button.click()\n",
    "    sleep(1)\n"
   ]
  },
  {
   "cell_type": "code",
   "execution_count": null,
   "id": "8121913c",
   "metadata": {},
   "outputs": [],
   "source": [
    "# Check the length of scrapped elements\n",
    "\n",
    "len(ratings)"
   ]
  },
  {
   "cell_type": "code",
   "execution_count": null,
   "id": "1cb4f30a",
   "metadata": {},
   "outputs": [],
   "source": [
    "# Reset Page to 1st page.\n",
    "\n",
    "page_reset = driver.find_element(By.XPATH,'//a[@class=\"cn++Ap A1msZJ\"]')\n",
    "page_reset.click()"
   ]
  },
  {
   "cell_type": "code",
   "execution_count": null,
   "id": "30325adb",
   "metadata": {},
   "outputs": [],
   "source": [
    "# Scrape the data for Full Review Summary\n",
    "\n",
    "summaries = []\n",
    "\n",
    "for i in range(10):\n",
    "    print('scrapping page', i+1)\n",
    "    summary = driver.find_elements(By.CLASS_NAME,'z9E0IG')\n",
    "    for s in summary:\n",
    "        summaries.append(s.text)\n",
    "        \n",
    "    next_button = driver.find_element(By.XPATH,\"//a[@class='_9QVEpD']\")\n",
    "    next_button.click()\n",
    "    sleep(1)"
   ]
  },
  {
   "cell_type": "code",
   "execution_count": null,
   "id": "32a83ac2",
   "metadata": {},
   "outputs": [],
   "source": [
    "# Check the length of scrapped elements\n",
    "\n",
    "len(summaries)"
   ]
  },
  {
   "cell_type": "code",
   "execution_count": null,
   "id": "7d30b103",
   "metadata": {},
   "outputs": [],
   "source": [
    "# Reset Page to 1st page.\n",
    "\n",
    "page_reset = driver.find_element(By.XPATH,'//a[@class=\"cn++Ap A1msZJ\"]')\n",
    "page_reset.click()"
   ]
  },
  {
   "cell_type": "code",
   "execution_count": null,
   "id": "8d4ec872",
   "metadata": {},
   "outputs": [],
   "source": [
    "# Scrape the data for Full Review elements\n",
    "\n",
    "reviews = []\n",
    "\n",
    "for i in range(10):\n",
    "    print('scrapping page', i+1)\n",
    "    review = driver.find_elements(By.XPATH,'//div[@class=\"ZmyHeo\"]/div/div')\n",
    "    for r in review:\n",
    "        reviews.append(r.text)\n",
    "        \n",
    "    next_button = driver.find_element(By.XPATH,\"//a[@class='_9QVEpD']\")\n",
    "    next_button.click()\n",
    "    sleep(1)\n"
   ]
  },
  {
   "cell_type": "code",
   "execution_count": null,
   "id": "f6bdaafd",
   "metadata": {},
   "outputs": [],
   "source": [
    "# Check the length of scrapped elements\n",
    "\n",
    "len(reviews)"
   ]
  },
  {
   "cell_type": "code",
   "execution_count": null,
   "id": "0474aeea",
   "metadata": {},
   "outputs": [],
   "source": [
    "# create the dataframe and fetch the first 100 data from the Web search page\n",
    "\n",
    "df = pd.DataFrame({'Rating':ratings,'Review Summary':summaries,'Full Review':reviews})\n",
    "df.head(100)"
   ]
  },
  {
   "cell_type": "code",
   "execution_count": null,
   "id": "4214d1cb",
   "metadata": {},
   "outputs": [],
   "source": []
  },
  {
   "cell_type": "markdown",
   "id": "7bd02924",
   "metadata": {},
   "source": [
    "### Q4: Scrape data for first 100 sneakers you find when you visit flipkart.com and search for “sneakers” in the search field.\n",
    "`You have to scrape 3 attributes of each sneaker:`\n",
    "1. Brand\n",
    "2. Product Description\n",
    "3. Price"
   ]
  },
  {
   "cell_type": "code",
   "execution_count": null,
   "id": "ded5c556",
   "metadata": {},
   "outputs": [],
   "source": [
    "# get the access from chrome driver\n",
    "\n",
    "driver = webdriver.Chrome()"
   ]
  },
  {
   "cell_type": "code",
   "execution_count": null,
   "id": "937e8094",
   "metadata": {},
   "outputs": [],
   "source": [
    "# fetching the website\n",
    "\n",
    "driver.get('https://www.flipkart.com/')"
   ]
  },
  {
   "cell_type": "code",
   "execution_count": null,
   "id": "c310545e",
   "metadata": {},
   "outputs": [],
   "source": [
    "# Put the text in the search bar for what product data we have to scrap. \n",
    "\n",
    "search = driver.find_element(By.XPATH,'//input[@class=\"Pke_EE\"]')\n",
    "search.send_keys(\"sneakers for mens\")"
   ]
  },
  {
   "cell_type": "code",
   "execution_count": null,
   "id": "c0463d4c",
   "metadata": {},
   "outputs": [],
   "source": [
    "# After putting the data in search bar click on the search button. \n",
    "\n",
    "button = driver.find_element(By.XPATH,'//button[@class=\"_2iLD__\"]')\n",
    "button.click()"
   ]
  },
  {
   "cell_type": "code",
   "execution_count": null,
   "id": "f6a33954",
   "metadata": {},
   "outputs": [],
   "source": [
    "# Scrape the data for the brand names for first 1000 products\n",
    "\n",
    "\n",
    "brands = []\n",
    "\n",
    "for i in range(26):\n",
    "    print('scrapping page', i+1)\n",
    "    brand = driver.find_elements(By.XPATH,'//div[@class=\"syl9yP\"]')\n",
    "    for b in brand:\n",
    "        brands.append(b.text)\n",
    "        \n",
    "    next_button = driver.find_element(By.XPATH,\"//a[@class='_9QVEpD']\")\n",
    "    next_button.click()\n",
    "    sleep(1)\n"
   ]
  },
  {
   "cell_type": "code",
   "execution_count": null,
   "id": "78b29a23",
   "metadata": {},
   "outputs": [],
   "source": [
    "# Check the length of scrapped elements\n",
    "\n",
    "len(brands)"
   ]
  },
  {
   "cell_type": "code",
   "execution_count": null,
   "id": "ebb78ae1",
   "metadata": {},
   "outputs": [],
   "source": [
    "# Reset page to the 1st page\n",
    "\n",
    "page_reset = driver.find_element(By.XPATH,'//a[@class=\"cn++Ap\"]')\n",
    "page_reset.click()"
   ]
  },
  {
   "cell_type": "code",
   "execution_count": null,
   "id": "8c8a8179",
   "metadata": {},
   "outputs": [],
   "source": [
    "# Scrape the data for the Discriptions for first 1000 products\n",
    "\n",
    "discriptions = []\n",
    "\n",
    "for i in range(26):\n",
    "    print('scrapping page', i+1)\n",
    "    discription = driver.find_elements(By.XPATH,'//a[@class=\"WKTcLC\"]')\n",
    "    for d in discription:\n",
    "        discriptions.append(d.text)\n",
    "        \n",
    "    next_button = driver.find_element(By.XPATH,\"//a[@class='_9QVEpD']\")\n",
    "    next_button.click()\n",
    "    sleep(1)\n"
   ]
  },
  {
   "cell_type": "code",
   "execution_count": null,
   "id": "769df0d4",
   "metadata": {},
   "outputs": [],
   "source": [
    "# Check the length of scrapped elements\n",
    "\n",
    "len(discriptions)"
   ]
  },
  {
   "cell_type": "code",
   "execution_count": null,
   "id": "276d85dd",
   "metadata": {},
   "outputs": [],
   "source": [
    "# Reset page to the 1st page\n",
    "\n",
    "page_reset = driver.find_element(By.XPATH,'//a[@class=\"cn++Ap\"]')\n",
    "page_reset.click()"
   ]
  },
  {
   "cell_type": "code",
   "execution_count": null,
   "id": "b95c613f",
   "metadata": {},
   "outputs": [],
   "source": [
    "# Scrape the data for the Prices for first 1000 products\n",
    "\n",
    "prices = []\n",
    "\n",
    "for i in range(26):\n",
    "    print('scrapping page', i+1)\n",
    "    price = driver.find_elements(By.XPATH,'//div[@class=\"Nx9bqj\"]')\n",
    "    for p in price:\n",
    "        prices.append(p.text)\n",
    "        \n",
    "    next_button = driver.find_element(By.XPATH,\"//a[@class='_9QVEpD']\")\n",
    "    next_button.click()\n",
    "    sleep(1)\n"
   ]
  },
  {
   "cell_type": "code",
   "execution_count": null,
   "id": "a7798b35",
   "metadata": {},
   "outputs": [],
   "source": [
    "# Check the length of scrapped elements\n",
    "\n",
    "len(prices)"
   ]
  },
  {
   "cell_type": "code",
   "execution_count": null,
   "id": "ed542093",
   "metadata": {},
   "outputs": [],
   "source": [
    "\n",
    "df = pd.DataFrame({'Brand':brands,'Product Description':discriptions,'Price':prices})\n",
    "df.head()"
   ]
  },
  {
   "cell_type": "markdown",
   "id": "8acf540d",
   "metadata": {},
   "source": [
    "### Q5: Go to webpage\n",
    "`https://www.amazon.in/` \n",
    "### Enter “Laptop” in the search field and then click the search icon. Then set CPU Type filter to “Intel Core i7”"
   ]
  },
  {
   "cell_type": "code",
   "execution_count": null,
   "id": "b645407b",
   "metadata": {},
   "outputs": [],
   "source": [
    "# get the access from chrome driver\n",
    "\n",
    "driver = webdriver.Chrome()"
   ]
  },
  {
   "cell_type": "code",
   "execution_count": null,
   "id": "dbd044f0",
   "metadata": {},
   "outputs": [],
   "source": [
    "# fetching the website\n",
    "\n",
    "driver.get('https://www.amazon.in/')\n"
   ]
  },
  {
   "cell_type": "code",
   "execution_count": null,
   "id": "e44a2673",
   "metadata": {},
   "outputs": [],
   "source": [
    "# place the text in the search bar for Laptop Products\n",
    "\n",
    "search_product = driver.find_element(By.ID,\"twotabsearchtextbox\")\n",
    "search_product.send_keys('laptop')\n"
   ]
  },
  {
   "cell_type": "code",
   "execution_count": null,
   "id": "aaf90a80",
   "metadata": {},
   "outputs": [],
   "source": [
    "# after place the text click on search button\n",
    "\n",
    "button = driver.find_element(By.ID,\"nav-search-submit-button\")\n",
    "button.click()"
   ]
  },
  {
   "cell_type": "code",
   "execution_count": null,
   "id": "a609649b",
   "metadata": {},
   "outputs": [],
   "source": [
    "# select the filter for core-i7 CPU type\n",
    "\n",
    "cpu_type = driver.find_element(By.XPATH,'/html/body/div[1]/div[1]/div[1]/div[2]/div/div[3]/span/div[1]/div/div/div[5]/ul[18]/span/span[12]/li/span/a/span')\n",
    "cpu_type.click()"
   ]
  },
  {
   "cell_type": "code",
   "execution_count": null,
   "id": "f58ba8e4",
   "metadata": {},
   "outputs": [],
   "source": [
    "# Create the lists for save the data\n",
    "\n",
    "title1 = []\n",
    "rating1 = []\n",
    "price1 = []"
   ]
  },
  {
   "cell_type": "code",
   "execution_count": null,
   "id": "daee05ce",
   "metadata": {},
   "outputs": [],
   "source": [
    "# Fetch the common attribute for same array length\n",
    "\n",
    "all_products = driver.find_elements(By.XPATH,\"//div[@data-component-type='s-search-result']\") \n",
    "len(all_products)"
   ]
  },
  {
   "cell_type": "code",
   "execution_count": null,
   "id": "c13a0385",
   "metadata": {},
   "outputs": [],
   "source": [
    "# Scrapped all three elements from the amazon website for core-i7 laptops data\n",
    "\n",
    "\n",
    "for product in all_products:\n",
    "    \n",
    "    titles = product.find_elements(By.XPATH,\".//span[@class='a-size-medium a-color-base a-text-normal']\")\n",
    "    for title in titles:\n",
    "        title1.append(title.text)\n",
    "        \n",
    "    ratings = product.find_elements(By.XPATH,\".//span[@class='a-size-base s-underline-text']\")\n",
    "    for rating in ratings:\n",
    "        rating1.append(rating.text)\n",
    "    try:\n",
    "        if len(product.find_elements(By.XPATH,\".//span[@class='a-price-whole']\"))>0:\n",
    "            prices = product.find_elements(By.XPATH,\".//span[@class='a-price-whole']\")\n",
    "            for price in prices:\n",
    "                price1.append(price.text)\n",
    "        else:\n",
    "             price1.append(\"0\") \n",
    "    except:\n",
    "        pass\n",
    "                \n",
    "# verify the length of all scrapped data save in the list         \n",
    "        \n",
    "print('name===>',len(title1))\n",
    "print ('rating===>',len(rating1))\n",
    "print ('price===>',len(price1))\n",
    "        "
   ]
  },
  {
   "cell_type": "code",
   "execution_count": null,
   "id": "4a043b63",
   "metadata": {},
   "outputs": [],
   "source": [
    "# Create the dataframe of all scrapped data\n",
    "\n",
    "df = pd.DataFrame({'Title':title1,'Ratings':rating1,'Price':price1})\n",
    "df.head(10)"
   ]
  },
  {
   "cell_type": "markdown",
   "id": "0d205c1a",
   "metadata": {},
   "source": [
    "### Q6: Write a python program to scrape data for Top 1000 Quotes of All Time.\n",
    "--The above task will be done in following steps:\n",
    "1. First get the webpage `https://www.azquotes.com/`\n",
    "2. Click on Top Quote\n",
    "3. Than scrap a) Quote b) Author c) Type Of Quotes"
   ]
  },
  {
   "cell_type": "code",
   "execution_count": null,
   "id": "3dbe7e0a",
   "metadata": {},
   "outputs": [],
   "source": [
    "# get the access from chrome driver\n",
    "\n",
    "driver = webdriver.Chrome()"
   ]
  },
  {
   "cell_type": "code",
   "execution_count": null,
   "id": "b35f6a5f",
   "metadata": {},
   "outputs": [],
   "source": [
    "# fetching the website\n",
    "\n",
    "driver.get('https://www.azquotes.com/')"
   ]
  },
  {
   "cell_type": "code",
   "execution_count": null,
   "id": "1229ac49",
   "metadata": {},
   "outputs": [],
   "source": [
    "# go to the Top Quotes Page\n",
    "\n",
    "driver.get('https://www.azquotes.com/top_quotes.html')"
   ]
  },
  {
   "cell_type": "code",
   "execution_count": null,
   "id": "41d64151",
   "metadata": {},
   "outputs": [],
   "source": [
    "# Enable the nextation\n",
    "\n",
    "isNextDisable = False"
   ]
  },
  {
   "cell_type": "code",
   "execution_count": null,
   "id": "4ac114cc",
   "metadata": {},
   "outputs": [],
   "source": [
    "#get the data from the all pages for \"Quotes\"\n",
    "\n",
    "quotes=[]\n",
    "\n",
    "for i in range(10):\n",
    "    print('scraping page',i+1)\n",
    "    quote = driver.find_elements(By.XPATH,'//a[@class=\"title\"]')\n",
    "    for q in quote:\n",
    "        quotes.append(q.text)\n",
    "    next_button = driver.find_element(By.XPATH,'//li[@class=\"next\"]')\n",
    "    next_button.click()\n",
    "    sleep(1)"
   ]
  },
  {
   "cell_type": "code",
   "execution_count": null,
   "id": "18518e4f",
   "metadata": {},
   "outputs": [],
   "source": [
    "# Check the length of scrapped elements\n",
    "\n",
    "len(quotes)"
   ]
  },
  {
   "cell_type": "code",
   "execution_count": null,
   "id": "0ff30b2b",
   "metadata": {},
   "outputs": [],
   "source": [
    "#get the first page again\n",
    "\n",
    "reset_page = driver.find_element(By.XPATH,'//li[@class=\"first\"]')\n",
    "reset_page.click()"
   ]
  },
  {
   "cell_type": "code",
   "execution_count": null,
   "id": "1989f276",
   "metadata": {},
   "outputs": [],
   "source": [
    "#get the data from the all pages for \"Authors\"\n",
    "\n",
    "\n",
    "authors=[]\n",
    "\n",
    "for i in range(10):\n",
    "    print('scraping page',i+1)\n",
    "    author = driver.find_elements(By.CLASS_NAME,'author')\n",
    "    authors.extend(author)\n",
    "    next_button = driver.find_element(By.XPATH,'//li[@class=\"next\"]')\n",
    "    next_button.click()\n",
    "    sleep(1)"
   ]
  },
  {
   "cell_type": "code",
   "execution_count": null,
   "id": "d9f34ce3",
   "metadata": {},
   "outputs": [],
   "source": [
    "# Check the length of scrapped elements\n",
    "\n",
    "len(authors)"
   ]
  },
  {
   "cell_type": "code",
   "execution_count": null,
   "id": "54cc04fe",
   "metadata": {},
   "outputs": [],
   "source": [
    "#get the first page again\n",
    "\n",
    "driver.get('https://www.azquotes.com/top_quotes.html')"
   ]
  },
  {
   "cell_type": "code",
   "execution_count": null,
   "id": "b6e1b21e",
   "metadata": {},
   "outputs": [],
   "source": [
    "#get the data from the all pages for \"Types of Quotes\"\n",
    "\n",
    "categories=[]\n",
    "\n",
    "for i in range(10):\n",
    "    print('scraping page',i+1)\n",
    "    category = driver.find_elements(By.CLASS_NAME,\"tags\")\n",
    "    categories.extend(category)\n",
    "    next_button = driver.find_element(By.XPATH,'//li[@class=\"next\"]')\n",
    "    next_button.click()\n",
    "    sleep(2)\n"
   ]
  },
  {
   "cell_type": "code",
   "execution_count": null,
   "id": "38ebb476",
   "metadata": {},
   "outputs": [],
   "source": [
    "# Check the lengths of the scrapped elements.\n",
    "\n",
    "print(len(categories))"
   ]
  },
  {
   "cell_type": "code",
   "execution_count": null,
   "id": "7c2d1f7b",
   "metadata": {},
   "outputs": [],
   "source": [
    "# create a dataframe and store all the scrapped data in the lists.\n",
    "\n",
    "df = pd.DataFrame({'Quote':quotes,'Author':authors,'Type Of Quotes':categories})\n",
    "df.head(5)\n"
   ]
  },
  {
   "cell_type": "markdown",
   "id": "e6f464b1",
   "metadata": {},
   "source": [
    "### Q7: Write a python program to display list of respected former Prime Ministers of India (i.e. Name, Born-Dead, Term of office, Remarks)\n",
    "from `https://www.jagranjosh.com/general-knowledge/list-of-all-prime-ministers-of-india-1473165149-1`\n",
    "\n",
    "--scrap the mentioned data and make the DataFrame--"
   ]
  },
  {
   "cell_type": "code",
   "execution_count": null,
   "id": "4c8fb9dd",
   "metadata": {},
   "outputs": [],
   "source": [
    "# get the access from chrome driver\n",
    "\n",
    "driver = webdriver.Chrome(options=Options())"
   ]
  },
  {
   "cell_type": "code",
   "execution_count": null,
   "id": "f843c12a",
   "metadata": {},
   "outputs": [],
   "source": [
    "driver.get('https://www.jagranjosh.com/general-knowledge/list-of-all-prime-ministers-of-india-1473165149-1')"
   ]
  },
  {
   "cell_type": "code",
   "execution_count": null,
   "id": "1088a01f",
   "metadata": {},
   "outputs": [],
   "source": [
    "Name = []\n",
    "Born_Dead = []\n",
    "Term_of_office = []\n",
    "Remark = []\n"
   ]
  },
  {
   "cell_type": "code",
   "execution_count": null,
   "id": "88890be0",
   "metadata": {},
   "outputs": [],
   "source": [
    "names = driver.find_elements(By.XPATH,\"//div[@class='TableData']/table/tbody/tr/th/div/strong\")\n",
    "for name in names:\n",
    "    Name.append(name.text)\n",
    "    \n",
    "    \n",
    "dates = driver.find_elements(By.TAG_NAME,\"strong\")\n",
    "for date in dates:\n",
    "    Born_Dead.append(date.text)\n",
    "    \n",
    "    \n",
    "terms = driver.find_elements(By.TAG_NAME,\"strong\")\n",
    "for term in terms:\n",
    "    Term_of_office.append(term.text)\n",
    "    \n",
    "remarks = driver.find_elements(By.TAG_NAME,\"strong\")\n",
    "for remark in remarks:\n",
    "    Remark.append(remark.text)\n",
    "    \n",
    "\n",
    "\n",
    "\n"
   ]
  },
  {
   "cell_type": "code",
   "execution_count": null,
   "id": "37cdb62a",
   "metadata": {},
   "outputs": [],
   "source": [
    "df = pd.DataFrame({ 'Name':Name,'Born-Dead':Born_Dead,'Term of Office':Term_of_office,'Remark':Remark})\n",
    "df.head(30)"
   ]
  },
  {
   "cell_type": "code",
   "execution_count": null,
   "id": "3d58bb23",
   "metadata": {},
   "outputs": [],
   "source": []
  },
  {
   "cell_type": "code",
   "execution_count": null,
   "id": "920b05d6",
   "metadata": {},
   "outputs": [],
   "source": []
  },
  {
   "cell_type": "code",
   "execution_count": null,
   "id": "8dd61b4b",
   "metadata": {},
   "outputs": [],
   "source": []
  },
  {
   "cell_type": "markdown",
   "id": "4df706d7",
   "metadata": {},
   "source": [
    "### Q8: Write a python program to display list of 50 Most expensive cars in the world (i.e. Car name and Price) from\n",
    "`https://www.motor1.com/`"
   ]
  },
  {
   "cell_type": "code",
   "execution_count": null,
   "id": "1903c406",
   "metadata": {},
   "outputs": [],
   "source": [
    "# get the access from chrome driver\n",
    "\n",
    "driver = webdriver.Chrome()"
   ]
  },
  {
   "cell_type": "code",
   "execution_count": null,
   "id": "18284b08",
   "metadata": {},
   "outputs": [],
   "source": [
    "# fetching the website\n",
    "\n",
    "driver.get('https://www.motor1.com/')"
   ]
  },
  {
   "cell_type": "code",
   "execution_count": null,
   "id": "2b66d655",
   "metadata": {},
   "outputs": [],
   "source": [
    "#click on search bar\n",
    "\n",
    "click_1 = driver.find_element(By.ID,'search_input')\n",
    "click_1.send_keys('50 most expensive cars')"
   ]
  },
  {
   "cell_type": "code",
   "execution_count": null,
   "id": "4621175f",
   "metadata": {},
   "outputs": [],
   "source": [
    "# place the input in the search bar \n",
    "\n",
    "search = driver.find_element(By.CLASS_NAME,'m1-navigation-main-part-right')\n",
    "search.send_keys('50 most expensive cars') "
   ]
  },
  {
   "cell_type": "code",
   "execution_count": null,
   "id": "16ffc5e3",
   "metadata": {},
   "outputs": [],
   "source": [
    "# click on search button\n",
    "\n",
    "button_1 = driver.find_element(By.XPATH,'/html/body/div[9]/div[2]/div/div/div[3]/div/div/div/form/button[1]')\n",
    "button_1.click()"
   ]
  },
  {
   "cell_type": "code",
   "execution_count": null,
   "id": "d68c7986",
   "metadata": {},
   "outputs": [],
   "source": [
    "\n",
    "\n",
    "search = driver.find_element(By.XPATH,'/html/body/div[9]/div[9]/div/div[1]/div/div/div[1]/div')\n",
    "search.click()"
   ]
  },
  {
   "cell_type": "code",
   "execution_count": null,
   "id": "01226abe",
   "metadata": {},
   "outputs": [],
   "source": [
    "#create the list for save the scrapped data\n",
    "\n",
    "Car_Name = []\n",
    "Price = []"
   ]
  },
  {
   "cell_type": "code",
   "execution_count": null,
   "id": "7e35ca00",
   "metadata": {},
   "outputs": [],
   "source": [
    "# scrape the data from parent class so that the aray length will be same\n",
    "\n",
    "all_cars = driver.find_elements(By.XPATH,\"//h3[@class='subheader']\")\n",
    "len(all_cars)"
   ]
  },
  {
   "cell_type": "code",
   "execution_count": null,
   "id": "c6550b3e",
   "metadata": {},
   "outputs": [],
   "source": [
    "# Scrape the data from both elements class Car name and the Car price.\n",
    "\n",
    "\n",
    "for car in all_cars:\n",
    "    \n",
    "    try:\n",
    "        if len(car.find_elements(By.XPATH,\"//h3[@class='subheader']\"))>0:\n",
    "            names = car.find_elements(By.TAG_NAME,\"h3\")\n",
    "            for name in names:\n",
    "                Car_Name.append(name.text)\n",
    "        else:\n",
    "            Car_Name.append(name.text)\n",
    "            \n",
    "    except:\n",
    "        pass\n",
    "    \n",
    "    try:\n",
    "        if len(car.find_elements(By.TAG_NAME,'strong'))>0:\n",
    "            prices = car.find_elements(By.TAG_NAME,'strong')\n",
    "            for price in prices:\n",
    "                Price.append(price.text)\n",
    "        else:\n",
    "            Price.append(name.text)\n",
    "            \n",
    "    except:\n",
    "        pass\n",
    "               \n",
    "\n"
   ]
  },
  {
   "cell_type": "code",
   "execution_count": null,
   "id": "1b060a00",
   "metadata": {},
   "outputs": [],
   "source": [
    "df = pd.DataFrame({'Car name':Car_Name,'Price':Price})\n",
    "df.head(50)"
   ]
  },
  {
   "cell_type": "code",
   "execution_count": null,
   "id": "5dfce7c2",
   "metadata": {},
   "outputs": [],
   "source": []
  }
 ],
 "metadata": {
  "kernelspec": {
   "display_name": "Python 3 (ipykernel)",
   "language": "python",
   "name": "python3"
  },
  "language_info": {
   "codemirror_mode": {
    "name": "ipython",
    "version": 3
   },
   "file_extension": ".py",
   "mimetype": "text/x-python",
   "name": "python",
   "nbconvert_exporter": "python",
   "pygments_lexer": "ipython3",
   "version": "3.10.9"
  }
 },
 "nbformat": 4,
 "nbformat_minor": 5
}
