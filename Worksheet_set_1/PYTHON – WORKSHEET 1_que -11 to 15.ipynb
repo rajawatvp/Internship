{
 "cells": [
  {
   "cell_type": "markdown",
   "id": "d02fda77",
   "metadata": {},
   "source": [
    "### 11. Write a python program to find the factorial of a number."
   ]
  },
  {
   "cell_type": "code",
   "execution_count": 2,
   "id": "b8fad96c",
   "metadata": {},
   "outputs": [
    {
     "name": "stdout",
     "output_type": "stream",
     "text": [
      "Enter the Number5\n",
      "The Factorial of 5 is 120\n"
     ]
    }
   ],
   "source": [
    "num=int(input(\"Enter the Number\"))\n",
    "factorial= 1\n",
    "if num <0:\n",
    "    print (\"Invalid number for Finding Factorial\")\n",
    "    \n",
    "elif num==0:\n",
    "    print(\"The factorial of 0 is 1\")\n",
    "    \n",
    "else:\n",
    "    for i in range(1, num + 1):\n",
    "        factorial = factorial*i\n",
    "    print (\"The Factorial of\",num,\"is\", factorial)\n",
    "    "
   ]
  },
  {
   "cell_type": "markdown",
   "id": "64f5fbf2",
   "metadata": {},
   "source": [
    "### 12. Write a python program to find whether a number is prime or composite."
   ]
  },
  {
   "cell_type": "code",
   "execution_count": 6,
   "id": "60c7e96a",
   "metadata": {},
   "outputs": [
    {
     "name": "stdout",
     "output_type": "stream",
     "text": [
      "Enter a number to check: 10\n",
      "The number is a composite number.\n"
     ]
    }
   ],
   "source": [
    "Input=int(input(\"Enter a number to check: \"))\n",
    "count=0\n",
    "\n",
    "for Number in range(1,Input+1):\n",
    "    Remainder=Input%Number\n",
    "    if (Remainder==0):\n",
    "        count=count+1\n",
    "\n",
    "if (count==1):\n",
    "    print(\"The number is neither prime nor composite.\")\n",
    "        \n",
    "if(count==2):\n",
    "    print(\"The number is a prime number.\")\n",
    "\n",
    "elif(count>=3):\n",
    "    print(\"The number is a composite number.\")"
   ]
  },
  {
   "cell_type": "markdown",
   "id": "68f874a8",
   "metadata": {},
   "source": [
    "### 13. Write a python program to check whether a given string is palindrome or not."
   ]
  },
  {
   "cell_type": "code",
   "execution_count": 14,
   "id": "92a1790b",
   "metadata": {},
   "outputs": [
    {
     "name": "stdout",
     "output_type": "stream",
     "text": [
      "Yes\n"
     ]
    }
   ],
   "source": [
    "def isPalindrome(s):\n",
    "    return s == s[::-1]\n",
    "\n",
    "\n",
    "s = \"dontnod\"\n",
    "ans = isPalindrome(s)\n",
    "\n",
    "if ans:\n",
    "    print(\"Yes\")\n",
    "else:\n",
    "    print(\"No\")\n"
   ]
  },
  {
   "cell_type": "markdown",
   "id": "a237a387",
   "metadata": {},
   "source": [
    "### 14. Write a Python program to get the third side of right-angled triangle from two given sides."
   ]
  },
  {
   "cell_type": "code",
   "execution_count": 15,
   "id": "9729a2b3",
   "metadata": {},
   "outputs": [
    {
     "name": "stdout",
     "output_type": "stream",
     "text": [
      "Enter base: 23\n",
      "Enter height: 33\n",
      "Enter angle: 45\n",
      "Hypotenuse = 40.22437072223753\n"
     ]
    }
   ],
   "source": [
    "import math\n",
    "\n",
    "a = float(input(\"Enter base: \"))\n",
    "b = float(input(\"Enter height: \"))\n",
    "x = float(input(\"Enter angle: \"))\n",
    "\n",
    "c = math.sqrt(a ** 2 + b ** 2)\n",
    "\n",
    "print(\"Hypotenuse =\", c)"
   ]
  },
  {
   "cell_type": "markdown",
   "id": "9af60922",
   "metadata": {},
   "source": [
    "### 15. Write a python program to print the frequency of each of the characters present in a given string."
   ]
  },
  {
   "cell_type": "code",
   "execution_count": 18,
   "id": "e2023deb",
   "metadata": {},
   "outputs": [
    {
     "name": "stdout",
     "output_type": "stream",
     "text": [
      "Count of all characters in Never a foot too far, even is :\n",
      " {'N': 1, 'e': 4, 'v': 2, 'r': 2, ' ': 6, 'a': 2, 'f': 2, 'o': 4, 't': 2, ',': 1, 'n': 1, '.': 1}\n"
     ]
    }
   ],
   "source": [
    "test_str = \"Never a foot too far, even. \"\n",
    "\n",
    "\n",
    "all_freq = {}\n",
    "\n",
    "for i in test_str:\n",
    "    if i in all_freq:\n",
    "        all_freq[i] += 1\n",
    "    else:\n",
    "        all_freq[i] = 1\n",
    "\n",
    "# printing result\n",
    "print(\"Count of all characters in Never a foot too far, even is :\\n \"\n",
    "    + str(all_freq))\n"
   ]
  }
 ],
 "metadata": {
  "kernelspec": {
   "display_name": "Python 3 (ipykernel)",
   "language": "python",
   "name": "python3"
  },
  "language_info": {
   "codemirror_mode": {
    "name": "ipython",
    "version": 3
   },
   "file_extension": ".py",
   "mimetype": "text/x-python",
   "name": "python",
   "nbconvert_exporter": "python",
   "pygments_lexer": "ipython3",
   "version": "3.10.9"
  }
 },
 "nbformat": 4,
 "nbformat_minor": 5
}
